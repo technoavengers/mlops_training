{
 "cells": [
  {
   "cell_type": "markdown",
   "metadata": {},
   "source": [
    "## Lab: Tracking Titanic Survivor ML Model with MLflow\n",
    "\n",
    "#### Duration: 20 mins\n",
    "\n",
    "## Lab Summary\n",
    "In this lab, you will work with a Titanic Survivor Machine Learning model and use MLflow to track experiments. You will log metrics, parameters, and the model to an MLflow tracking server, compare different runs, and register the best-performing model. Finally, you will validate the registered model with a new dataset.\n",
    "\n",
    "---\n",
    "\n",
    "## Key Objectives:\n",
    "- Understand how to start and configure an MLflow tracking server.\n",
    "- Learn to log experiment details such as parameters, metrics, and models using MLflow.\n",
    "- Compare multiple experiments to identify the best-performing model.\n",
    "- Register and validate the model using new data.\n",
    "\n",
    "---\n"
   ]
  },
  {
   "cell_type": "markdown",
   "metadata": {},
   "source": [
    "#### <span style=\"color:orange\">Step 1: Train Your Model</span>\n",
    "\n",
    "Run below code to train the Titanic Survivor model"
   ]
  },
  {
   "cell_type": "code",
   "execution_count": null,
   "metadata": {},
   "outputs": [],
   "source": [
    "# Import necessary libraries\n",
    "import pandas as pd\n",
    "from sklearn.model_selection import train_test_split\n",
    "from sklearn.preprocessing import StandardScaler, LabelEncoder\n",
    "from sklearn.ensemble import RandomForestClassifier\n",
    "from sklearn.metrics import accuracy_score, classification_report, confusion_matrix\n",
    "import seaborn as sns\n",
    "import matplotlib.pyplot as plt\n",
    "\n",
    "# Load the Titanic dataset using Seaborn\n",
    "titanic = sns.load_dataset('titanic')\n",
    "\n",
    "# Drop rows with missing target and features\n",
    "titanic = titanic.dropna(subset=['age', 'embarked', 'sex', 'class', 'fare', 'who', 'alone', 'survived'])\n",
    "\n",
    "# Define features (X) and target (y)\n",
    "X = titanic[['age', 'fare', 'class', 'sex', 'embarked', 'who', 'alone']]\n",
    "y = titanic['survived']\n",
    "\n",
    "# Convert categorical features to numeric using Label Encoding\n",
    "X = pd.get_dummies(X, drop_first=True)\n",
    "\n",
    "# Split the dataset into training and testing sets\n",
    "X_train, X_test, y_train, y_test = train_test_split(X, y, test_size=0.2, random_state=42, stratify=y)\n",
    "\n",
    "# Standardize the features\n",
    "scaler = StandardScaler()\n",
    "X_train = scaler.fit_transform(X_train)\n",
    "X_test = scaler.transform(X_test)\n",
    "\n",
    "# Define model parameters\n",
    "params = {\n",
    "    \"n_estimators\": 100,\n",
    "    \"max_depth\": None,\n",
    "    \"min_samples_split\": 2,\n",
    "    \"random_state\": 42\n",
    "}\n",
    "\n",
    "# Train a Random Forest Classifier\n",
    "model = RandomForestClassifier(**params)\n",
    "model.fit(X_train, y_train)\n",
    "\n",
    "# Make predictions\n",
    "y_pred = model.predict(X_test)\n",
    "print(\"Titanic Prediction Model is trained\")\n",
    "\n",
    "# Evaluate the model\n",
    "accuracy = accuracy_score(y_test, y_pred)\n",
    "print(\"Accuracy:\", accuracy)\n",
    "\n",
    "# Confusion matrix\n",
    "# Visualize and save the confusion matrix\n",
    "conf_matrix = confusion_matrix(y_test, y_pred)\n",
    "plt.figure(figsize=(8, 6))\n",
    "sns.heatmap(conf_matrix, annot=True, fmt=\"d\", cmap=\"Blues\", xticklabels=['Not Survived', 'Survived'], yticklabels=['Not Survived', 'Survived'])\n",
    "plt.xlabel(\"Predicted\")\n",
    "plt.ylabel(\"True\")\n",
    "plt.title(\"Confusion Matrix\")\n",
    "plt.savefig(\"confusion_matrix.png\")\n",
    "plt.show()"
   ]
  },
  {
   "cell_type": "markdown",
   "metadata": {},
   "source": [
    "\n",
    "#### <span style=\"color:orange\">Step 2: Install MLflow</span>\n",
    "If MLflow is not installed, run:  \n"
   ]
  },
  {
   "cell_type": "code",
   "execution_count": null,
   "metadata": {},
   "outputs": [],
   "source": [
    "pip install mlflow"
   ]
  },
  {
   "cell_type": "markdown",
   "metadata": {},
   "source": [
    "#### <span style=\"color:orange\">Step 3: Start MLflow Server</span>\n",
    "\n",
    "Open Terminal and run the following command to start the MLflow server locally:"
   ]
  },
  {
   "cell_type": "code",
   "execution_count": null,
   "metadata": {},
   "outputs": [],
   "source": [
    "python -m mlflow server --host 127.0.0.1 --port 5001"
   ]
  },
  {
   "cell_type": "markdown",
   "metadata": {},
   "source": [
    "#### <span style=\"color:orange\">Step 4: Track Metrics and Model</span>\n",
    "\n",
    "Integrate the Titanic Survivor model code with MLflow by completing the TODO tasks provided in the code snippet below. Your task is to log parameters, metrics, and the trained model.\n"
   ]
  },
  {
   "cell_type": "code",
   "execution_count": null,
   "metadata": {},
   "outputs": [],
   "source": [
    "### MLFLOW tracking\n",
    "mlflow.set_tracking_uri(uri=\"http://127.0.0.1:5001\")\n",
    "mlflow.set_experiment(\"Titanic Survivor Model Experiment\")\n",
    "\n",
    "# Start an MLflow run\n",
    "with mlflow.start_run():\n",
    "    # Train a Random Forest Classifier\n",
    "    model = RandomForestClassifier(**params)\n",
    "    model.fit(X_train, y_train)\n",
    "\n",
    "    # Make predictions\n",
    "    y_pred = model.predict(X_test)\n",
    "\n",
    "    # Evaluate the model\n",
    "    accuracy = accuracy_score(y_test, y_pred)\n",
    "\n",
    "    # Log parameters, metrics, and the model\n",
    "    mlflow.log_params(params)\n",
    "    mlflow.log_metric(\"accuracy\", accuracy)\n",
    "    mlflow.sklearn.log_model(model, \"random_forest_model\")\n",
    "\n",
    "    # Log the confusion matrix image\n",
    "    mlflow.log_artifact(\"confusion_matrix.png\")\n",
    "\n",
    "# End MLflow run\n",
    "mlflow.end_run()\n",
    "\n",
    "\n",
    "    "
   ]
  },
  {
   "cell_type": "markdown",
   "metadata": {},
   "source": [
    "#### <span style=\"color:orange\">Step 5: Access MLFlow Server on Browser</span>\n",
    "\n",
    "Open browser and check your tracked experiment on MLFlow UI\n",
    "\n",
    "http://127.0.0.1:5001\n",
    "\n",
    "\n",
    "Go to MLFLow UI and click on the experiment"
   ]
  },
  {
   "cell_type": "markdown",
   "metadata": {},
   "source": [
    "![Select Experiments](../../../images/Lab1/overview.png)"
   ]
  },
  {
   "cell_type": "markdown",
   "metadata": {},
   "source": [
    "#### <span style=\"color:orange\">Step 6: Retrain the model with different params</span>\n",
    "\n",
    "Run below code to retrain model with different params"
   ]
  },
  {
   "cell_type": "code",
   "execution_count": null,
   "metadata": {},
   "outputs": [],
   "source": [
    "params = {\n",
    "    \"n_estimators\": 200,           # More trees for better generalization\n",
    "    \"max_depth\": 15,               # Limit depth to prevent overfitting\n",
    "    \"min_samples_split\": 5,        # Require at least 5 samples to split\n",
    "    \"min_samples_leaf\": 2,         # At least 2 samples in each leaf\n",
    "    \"max_features\": \"sqrt\",        # Use the square root of features for splits\n",
    "    \"criterion\": \"gini\",           # Standard impurity measure\n",
    "    \"class_weight\": \"balanced\",    # Handle class imbalance automatically\n",
    "    \"random_state\": 42             # Ensure reproducibility\n",
    "}\n",
    "\n",
    "\n",
    "# Train a Random Forest Classifier\n",
    "model = RandomForestClassifier(**params)\n",
    "model.fit(X_train, y_train)\n",
    "\n",
    "# Make predictions\n",
    "y_pred = model.predict(X_test)\n",
    "print(\"Titanic Prediction Model is trained\")"
   ]
  },
  {
   "cell_type": "markdown",
   "metadata": {},
   "source": [
    "#### <span style=\"color:orange\">Step 7: Evaluate the Model Again</span>\n",
    "\n"
   ]
  },
  {
   "cell_type": "code",
   "execution_count": null,
   "metadata": {},
   "outputs": [],
   "source": [
    "# Evaluate the model\n",
    "accuracy = accuracy_score(y_test, y_pred)\n",
    "print(\"Accuracy:\", accuracy)\n",
    "\n",
    "# Visualize and save the confusion matrix\n",
    "conf_matrix = confusion_matrix(y_test, y_pred)\n",
    "plt.figure(figsize=(8, 6))\n",
    "sns.heatmap(conf_matrix, annot=True, fmt=\"d\", cmap=\"Blues\", xticklabels=['Not Survived', 'Survived'], yticklabels=['Not Survived', 'Survived'])\n",
    "plt.xlabel(\"Predicted\")\n",
    "plt.ylabel(\"True\")\n",
    "plt.title(\"Confusion Matrix\")\n",
    "plt.savefig(\"confusion_matrix.png\")\n",
    "plt.show()"
   ]
  },
  {
   "cell_type": "markdown",
   "metadata": {},
   "source": [
    "#### <span style=\"color:orange\">Step 8: Track the new experiment</span>\n",
    "\n",
    "Rune below code to log the new params, metrics and model to MLFlow"
   ]
  },
  {
   "cell_type": "code",
   "execution_count": null,
   "metadata": {},
   "outputs": [],
   "source": [
    "### MLFLOW tracking\n",
    "mlflow.set_tracking_uri(uri=\"http://127.0.0.1:5001\")\n",
    "mlflow.set_experiment(\"Titanic Survivor Model Experiment\")\n",
    "\n",
    "# Start an MLflow run\n",
    "with mlflow.start_run():\n",
    "    # Train a Random Forest Classifier\n",
    "    model = RandomForestClassifier(**params)\n",
    "    model.fit(X_train, y_train)\n",
    "\n",
    "    # Make predictions\n",
    "    y_pred = model.predict(X_test)\n",
    "\n",
    "    # Evaluate the model\n",
    "    accuracy = accuracy_score(y_test, y_pred)\n",
    "\n",
    "    # Log parameters, metrics, and the model\n",
    "    mlflow.log_params(params)\n",
    "    mlflow.log_metric(\"accuracy\", accuracy)\n",
    "    mlflow.sklearn.log_model(model, \"random_forest_model\")\n",
    "\n",
    "    # Log the confusion matrix image\n",
    "    mlflow.log_artifact(\"confusion_matrix.png\")\n",
    "\n",
    "# End MLflow run\n",
    "mlflow.end_run()\n",
    "\n",
    "\n",
    "    "
   ]
  },
  {
   "cell_type": "markdown",
   "metadata": {},
   "source": [
    "#### <span style=\"color:orange\">Step 9: Open MLflowUI and Compare experiments</span>\n",
    "\n",
    "http://127.0.0.1:5001\n",
    "\n",
    "![Compare Experiments](../../../images/Lab1/compare.png)"
   ]
  },
  {
   "cell_type": "markdown",
   "metadata": {},
   "source": [
    "<span style=\"color:red\">Notice that after optimizing the params, the accuracy of model has been increased</span>\n",
    "\n",
    "![Compare Experiments](../../../images/Lab1/accuracy.png)"
   ]
  },
  {
   "cell_type": "markdown",
   "metadata": {},
   "source": [
    "#### <span style=\"color:orange\">Step 10: Register the Better Performing Model</span>\n",
    "\n",
    "Go to MLFLow UI and select the experiment that performed better\n",
    "\n",
    "![Select Experiments](../../../images/Lab1/select.png)\n",
    "\n"
   ]
  },
  {
   "cell_type": "markdown",
   "metadata": {},
   "source": [
    "![Register Model](../../../images/Lab1/register.png)"
   ]
  },
  {
   "cell_type": "markdown",
   "metadata": {},
   "source": [
    "![Select Experiments](../../../images/Lab1/register1.png)"
   ]
  },
  {
   "cell_type": "markdown",
   "metadata": {},
   "source": [
    "#### <span style=\"color:orange\">Step 11: Check your registered Model</span>\n",
    "\n",
    "\n",
    "![Select Experiments](../../../images/Lab1/registered_model.png)"
   ]
  },
  {
   "cell_type": "markdown",
   "metadata": {},
   "source": [
    "#### <span style=\"color:orange\">Step 12: Access and validate your registered Model</span>\n",
    "\n",
    "You have been provided with some dummy data. Test this data and make prediction with your registered model\n",
    "Complete the TODO section before running below code\n"
   ]
  },
  {
   "cell_type": "code",
   "execution_count": null,
   "metadata": {},
   "outputs": [],
   "source": [
    "import pandas as pd\n",
    "import numpy as np\n",
    "import mlflow.pyfunc\n",
    "from sklearn.preprocessing import StandardScaler\n",
    "\n",
    "# Define the dummy data structure based on your trained model's features\n",
    "dummy_data = pd.DataFrame({\n",
    "    \"age\": [25, 40, 18],                   # Passenger age\n",
    "    \"fare\": [7.25, 71.28, 8.05],          # Passenger fare\n",
    "    \"class_First\": [1, 0, 0],             # 1st class indicator (dummy variable)\n",
    "    \"class_Second\": [0, 1, 0],            # 2nd class indicator (dummy variable)\n",
    "    \"sex_male\": [0, 1, 0],                # Gender (1 = male, 0 = female)\n",
    "    \"embarked_Q\": [0, 0, 1],              # Embarked from Queenstown (dummy variable)\n",
    "    \"embarked_S\": [1, 0, 0],              # Embarked from Southampton (dummy variable)\n",
    "    \"who_man\": [0, 1, 0],                 # Gender-based classification (man)\n",
    "    \"who_woman\": [1, 0, 1],               # Gender-based classification (woman)\n",
    "    \"alone_True\": [0, 1, 0]               # Traveling alone indicator\n",
    "})\n",
    "\n",
    "# Load the model from MLflow\n",
    "#TODO: model_name = \"Titanic Survivor\"\n",
    "#TODO: model_name = \"latest\"\n",
    "\n",
    "model_uri = f'models:/{model_name}/{model_version}'\n",
    "loaded_model = mlflow.pyfunc.load_model(model_uri)\n",
    "\n",
    "# Standardize dummy data using the same scaler as the trained model\n",
    "scaler = StandardScaler()\n",
    "\n",
    "# Scale the dummy data (fit_transform should have been done on training data earlier)\n",
    "dummy_data_scaled = scaler.fit_transform(dummy_data)  # Use `transform` if reusing a saved scaler\n",
    "\n",
    "# Predict using the loaded model\n",
    "predictions = loaded_model.predict(dummy_data_scaled)\n",
    "\n",
    "# Display predictions\n",
    "print(\"Dummy Data Predictions:\")\n",
    "print(predictions)\n"
   ]
  },
  {
   "cell_type": "markdown",
   "metadata": {},
   "source": [
    "## <span style=\"color:yellow\">END OF LAB</span>"
   ]
  }
 ],
 "metadata": {
  "kernelspec": {
   "display_name": "Python 3",
   "language": "python",
   "name": "python3"
  },
  "language_info": {
   "codemirror_mode": {
    "name": "ipython",
    "version": 3
   },
   "file_extension": ".py",
   "mimetype": "text/x-python",
   "name": "python",
   "nbconvert_exporter": "python",
   "pygments_lexer": "ipython3",
   "version": "3.11.9"
  }
 },
 "nbformat": 4,
 "nbformat_minor": 2
}
