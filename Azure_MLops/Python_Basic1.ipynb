{
  "nbformat": 4,
  "nbformat_minor": 0,
  "metadata": {
    "colab": {
      "provenance": []
    },
    "kernelspec": {
      "name": "python3",
      "display_name": "Python 3"
    },
    "language_info": {
      "name": "python"
    }
  },
  "cells": [
    {
      "cell_type": "code",
      "source": [
        "pip install neo4j"
      ],
      "metadata": {
        "id": "0kNOxYrabxlZ"
      },
      "execution_count": null,
      "outputs": []
    },
    {
      "cell_type": "code",
      "execution_count": null,
      "metadata": {
        "id": "B-z4mNS6bWTG"
      },
      "outputs": [],
      "source": [
        "from neo4j import GraphDatabase\n",
        "import sys\n",
        "# Corrected connection URI (using bolt+s:// for secure connection)\n",
        "uri = \"neo4j+s://17318f48.databases.neo4j.io\"\n",
        "username = \"neo4j\"\n",
        "password = \"LedwmObBdwwFROp8XsEy8gOGWIo6k8R1u5myXeXWurk\"\n",
        "try:\n",
        " driver = GraphDatabase.driver(uri, auth=(username, password))\n",
        "except Exception as e:\n",
        " print(\"Failed to create driver:\", e)\n",
        " sys.exit(1)\n",
        "\n",
        "\n",
        "\n",
        "def test_connection():\n",
        " with driver.session() as session:\n",
        "   result = session.run(\"RETURN 'Connection successful' AS msg\")\n",
        "   print(result.single()[\"msg\"])\n",
        "\n",
        "\n",
        "if __name__ == \"__main__\":\n",
        " test_connection()"
      ]
    },
    {
      "cell_type": "code",
      "source": [
        "def create_sample_data():\n",
        "   with driver.session() as session:\n",
        "       session.run(\"\"\"\n",
        "           CREATE (:Buyer {name: 'Alice', email: 'alice@example.com'}),\n",
        "                  (:Buyer {name: 'Bob',   email: 'bob@example.com'}),\n",
        "                  (:Product {name: 'Laptop',  category: 'Electronics'}),\n",
        "                  (:Product {name: 'Blender', category: 'Home Appliances'})\n",
        "       \"\"\")\n",
        "   print(\"Sample data inserted\")\n",
        "\n",
        "create_sample_data()"
      ],
      "metadata": {
        "id": "gw1S3Dp8dhWn"
      },
      "execution_count": null,
      "outputs": []
    },
    {
      "cell_type": "code",
      "source": [
        "def fetch_buyers():\n",
        " with driver.session() as session:\n",
        "   result = session.run(\n",
        "     \"MATCH (b:Buyer) \"\n",
        "     \"RETURN b.name AS name, b.email AS email\"\n",
        "   )\n",
        "   for record in result:\n",
        "     print(f\"{record['name']} - {record['email']}\")\n",
        "\n",
        "fetch_buyers()"
      ],
      "metadata": {
        "id": "BE4NcDGbeM9D"
      },
      "execution_count": null,
      "outputs": []
    },
    {
      "cell_type": "code",
      "source": [
        "def update_buyer_email():\n",
        "   with driver.session() as session:\n",
        "       session.run(\n",
        "           \"MATCH (b:Buyer {name: 'Alice'}) \"\n",
        "           \"SET b.email = 'alice@newmail.com'\"\n",
        "       )\n",
        "   print(\"Alice's email updated\")\n",
        "\n",
        "update_buyer_email()"
      ],
      "metadata": {
        "id": "cyoLzi3YfLUs"
      },
      "execution_count": null,
      "outputs": []
    },
    {
      "cell_type": "code",
      "source": [
        "def delete_buyer():\n",
        "   with driver.session() as session:\n",
        "       session.run(\n",
        "           \"MATCH (b:Buyer {name: 'Bob'}) DELETE b\"\n",
        "       )\n",
        "   print(\"Bob deleted\")\n",
        "delete_buyer()"
      ],
      "metadata": {
        "id": "9s0eHc23fTvt"
      },
      "execution_count": null,
      "outputs": []
    },
    {
      "cell_type": "markdown",
      "source": [
        "## ***Create a python code to list all the electronics.***\n"
      ],
      "metadata": {
        "id": "4cR6sC1agyP6"
      }
    },
    {
      "cell_type": "code",
      "source": [],
      "metadata": {
        "id": "AH8JY5eVg7Wk"
      },
      "execution_count": null,
      "outputs": []
    },
    {
      "cell_type": "markdown",
      "source": [
        "# **Create Relationship between Buyers and Products**\n",
        "\n",
        "1.   Alice -> Laptop\n",
        "2.   Bob -> Blender\n",
        "\n"
      ],
      "metadata": {
        "id": "OdfMe92tg9EY"
      }
    },
    {
      "cell_type": "code",
      "source": [],
      "metadata": {
        "id": "Jwr1TMO7hWhb"
      },
      "execution_count": null,
      "outputs": []
    },
    {
      "cell_type": "markdown",
      "source": [
        "# **Count total buyers who bought Electronic Items**"
      ],
      "metadata": {
        "id": "vzeYgQIkhYCD"
      }
    },
    {
      "cell_type": "code",
      "source": [],
      "metadata": {
        "id": "nHI-CHKghkMX"
      },
      "execution_count": null,
      "outputs": []
    }
  ]
}