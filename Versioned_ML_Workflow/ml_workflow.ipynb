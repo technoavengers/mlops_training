{
 "cells": [
  {
   "cell_type": "markdown",
   "metadata": {},
   "source": [
    "Step 1: Initialize DVC and Connect S3\n",
    "\n",
    "Initialize Git and DVC:\n",
    "\n",
    "git init\n",
    "dvc init"
   ]
  },
  {
   "cell_type": "markdown",
   "metadata": {},
   "source": [
    "Set Up S3 Remote: Add your S3 bucket as a remote storage:\n",
    "\n",
    "dvc remote add -d myremote s3://<bucket-name>/dvc_store"
   ]
  }
 ],
 "metadata": {
  "language_info": {
   "name": "python"
  }
 },
 "nbformat": 4,
 "nbformat_minor": 2
}
