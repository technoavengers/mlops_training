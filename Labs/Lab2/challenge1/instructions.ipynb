{
 "cells": [
  {
   "cell_type": "markdown",
   "metadata": {},
   "source": [
    "# **Lab: Reproducible ML Pipeline with DVC and MLflow**\n",
    "\n",
    "**Duration: 15 mins**\n",
    "\n",
    "This lab demonstrates how to:\n",
    "\n",
    "1. Use **DVC** to track datasets, models, and metrics.\n",
    "2. Integrate **MLflow** for experiment tracking.\n",
    "3. Reproduce pipelines and manage different versions of data and models.\n",
    "4. Compare metrics across experiments."
   ]
  },
  {
   "cell_type": "markdown",
   "metadata": {},
   "source": [
    "## **Pre-Created Files**\n",
    "The following files are pre-created and available in your folder:\n",
    "\n",
    "1. **params.yaml**: Contains hyperparameters for the model.\n",
    "\n",
    "2. **train.py**: A Python script to train the Random Forest model, evaluate it, and log metrics to MLflow.\n",
    "\n",
    "3. **dvc.yaml**: Defines the pipeline structure, including dependencies and outputs.\n",
    "\n",
    "You will modify and use these files to explore DVC and MLflow."
   ]
  },
  {
   "cell_type": "markdown",
   "metadata": {},
   "source": [
    "## **Step 1: Initialize  DVC**\n",
    "\n",
    "Set up  DVC to version control your datasets and pipeline."
   ]
  },
  {
   "cell_type": "code",
   "execution_count": null,
   "metadata": {},
   "outputs": [],
   "source": [
    "!git init\n",
    "# Initialize DVC\n",
    "!dvc init"
   ]
  },
  {
   "cell_type": "markdown",
   "metadata": {},
   "source": [
    "# Explore DVC Components\n",
    "\n",
    "After initializing **DVC**, consider exploring the following components to understand how it manages and tracks your data:\n",
    "\n",
    "### 1. `.dvc/` Directory\n",
    "- This directory contains **DVC's internal files and configurations**.\n",
    "- Reviewing its contents can provide insight into how **DVC manages data** and tracks changes.\n",
    "\n",
    "---\n",
    "\n",
    "### 2. `.dvcignore` File\n",
    "- Similar to `.gitignore`, this file tells DVC which files or directories to **ignore**.\n",
    "- Understanding its configuration can help you **manage tracked files** effectively.\n",
    "\n",
    "---\n",
    "\n",
    "### 3. Integration with Git\n",
    "- If your project is under **Git version control**, DVC modifies the `.gitignore` file to prevent large data files from being tracked by Git.\n",
    "- This ensures that:\n",
    "  - **Metadata** is versioned in Git.\n",
    "  - Actual **data is managed by DVC**.\n",
    "\n",
    "---\n",
    "\n",
    "By exploring these components, you’ll gain a better understanding of how DVC organizes and manages your project’s data, enabling **efficient and reproducible machine learning workflows**.\n"
   ]
  },
  {
   "cell_type": "markdown",
   "metadata": {},
   "source": [
    "## **Step 2: Understand Pre-Created Files**\n",
    "\n",
    "### 1. **params.yaml**\n",
    "This file contains hyperparameters for your machine learning model. You can modify it to tune your model."
   ]
  },
  {
   "cell_type": "markdown",
   "metadata": {},
   "source": [
    "```yaml\n",
    "train:\n",
    "  test_size: 0.2\n",
    "  random_state: 42\n",
    "  n_estimators: 100\n",
    "  max_depth: 5\n",
    "```"
   ]
  },
  {
   "cell_type": "markdown",
   "metadata": {},
   "source": [
    "### 2. **train.py**\n",
    "You have been provided with a training script performs the following tasks:\n",
    "- Loads the dataset.\n",
    "- Splits the data into training and testing sets.\n",
    "- Trains a Random Forest model.\n",
    "- Logs metrics and the model using MLflow on 127.0.0.1:5001."
   ]
  },
  {
   "cell_type": "markdown",
   "metadata": {},
   "source": [
    "### 3. **dvc.yaml**\n",
    "Defines the pipeline, including:\n",
    "- Dependencies: `train.py`, `params.yaml`, and `data/sales.csv`.\n",
    "- Outputs: `metrics.txt`.\n",
    "\n",
    "You will use this pipeline to track your ML workflow."
   ]
  },
  {
   "cell_type": "markdown",
   "metadata": {},
   "source": [
    "```yaml\n",
    "stages:\n",
    "  train:\n",
    "    cmd: python train.py\n",
    "    deps:\n",
    "      - train.py\n",
    "      - data/sales.csv\n",
    "      - params.yaml\n",
    "    outs:\n",
    "      - metrics.txt\n",
    "    metrics:\n",
    "      - metrics.txt\n",
    "```"
   ]
  },
  {
   "cell_type": "markdown",
   "metadata": {},
   "source": [
    "## **Step 3: Add and Track the Dataset**\n",
    "\n"
   ]
  },
  {
   "cell_type": "markdown",
   "metadata": {},
   "source": [
    "#### Create sales.csv file under data folder which needs to be tracked by dvc"
   ]
  },
  {
   "cell_type": "code",
   "execution_count": 1,
   "metadata": {},
   "outputs": [
    {
     "name": "stdout",
     "output_type": "stream",
     "text": [
      "File 'sales.csv' created successfully in 'data' folder.\n"
     ]
    }
   ],
   "source": [
    "import os\n",
    "import csv\n",
    "\n",
    "def create_sales_csv():\n",
    "    # Define the data folder and file path\n",
    "    data_folder = \"data\"\n",
    "    file_name = \"sales.csv\"\n",
    "    file_path = os.path.join(data_folder, file_name)\n",
    "\n",
    "    # Ensure the data folder exists\n",
    "    os.makedirs(data_folder, exist_ok=True)\n",
    "\n",
    "    # Define the CSV content\n",
    "    csv_content = [\n",
    "        [\"transaction_date\", \"store\", \"category\", \"amount\", \"units\"],\n",
    "        [\"2023-01-01\", \"StoreA\", \"Electronics\", 1000, 10],\n",
    "        [\"2023-01-02\", \"StoreB\", \"Furniture\", 2000, 20],\n",
    "        [\"2023-01-03\", \"StoreA\", \"Clothing\", 1500, 15],\n",
    "        [\"2023-01-04\", \"StoreB\", \"Electronics\", 1200, 12],\n",
    "        [\"2023-01-05\", \"StoreA\", \"Clothing\", 2000, 10],\n",
    "        [\"2023-01-06\", \"StoreB\", \"Electronics\", 1800, 15],\n",
    "        [\"2023-01-05\", \"StoreA\", \"Appliances\", 2000, 10],\n",
    "        [\"2023-01-06\", \"StoreC\", \"Appliances\", 1800, 15]\n",
    "    ]\n",
    "\n",
    "    # Write the content to the CSV file\n",
    "    with open(file_path, mode=\"w\", newline=\"\", encoding=\"utf-8\") as file:\n",
    "        writer = csv.writer(file)\n",
    "        writer.writerows(csv_content)\n",
    "\n",
    "    print(f\"File '{file_name}' created successfully in '{data_folder}' folder.\")\n",
    "\n",
    "# Call the function to create the file\n",
    "if __name__ == \"__main__\":\n",
    "    create_sales_csv()\n"
   ]
  },
  {
   "cell_type": "markdown",
   "metadata": {},
   "source": [
    "#### Track the dataset using DVC and push it to remote storage."
   ]
  },
  {
   "cell_type": "code",
   "execution_count": null,
   "metadata": {},
   "outputs": [],
   "source": [
    "# Add dataset to DVC\n",
    "!dvc add data/sales.csv\n",
    "\n",
    "!git add data/sales.csv.dvc data/.gitignore\n",
    "!git commit -m \"Initial dataset tracking with DVC\"\n",
    "\n"
   ]
  },
  {
   "cell_type": "markdown",
   "metadata": {},
   "source": [
    "## **Step 4: Run the Pipeline**\n",
    "\n",
    "Execute the pipeline and push outputs to remote storage."
   ]
  },
  {
   "cell_type": "code",
   "execution_count": null,
   "metadata": {},
   "outputs": [],
   "source": [
    "# Run the pipeline\n",
    "print(\"Running the pipeline\")\n",
    "!dvc repro\n",
    "\n",
    "\n",
    "# Commit changes\n",
    "print(\"Commiting the files in GIT for first run\")\n",
    "!git add params.yaml dvc.yaml dvc.lock metrics.txt\n",
    "!git commit -m \"Run pipeline with first version of data and hyperparameters\""
   ]
  },
  {
   "cell_type": "markdown",
   "metadata": {},
   "source": [
    "## **Step 4: Modify Hyperparameters in params.yaml**\n",
    "\n",
    "Modify the hyperparameters to experiment with different model configurations."
   ]
  },
  {
   "cell_type": "code",
   "execution_count": null,
   "metadata": {},
   "outputs": [],
   "source": [
    "# Modify params.yaml\n",
    "yaml_content = \"\"\"\n",
    "train:\n",
    "  test_size: 0.3\n",
    "  random_state: 24\n",
    "  n_estimators: 200\n",
    "  max_depth: 10\n",
    "\"\"\"\n",
    "\n",
    "with open(\"params.yaml\", \"w\") as f:\n",
    "    f.write(yaml_content)\n",
    "\n",
    "print(\"params.yaml updated successfully!\")"
   ]
  },
  {
   "cell_type": "markdown",
   "metadata": {},
   "source": [
    "## **Step 5: Change Dataset **\n",
    "\n",
    "Open `sales.csv` and add below line"
   ]
  },
  {
   "cell_type": "code",
   "execution_count": null,
   "metadata": {},
   "outputs": [],
   "source": [
    "\"2023-01-06\", \"StoreC\", \"Appliances\", 1800, 15"
   ]
  },
  {
   "cell_type": "code",
   "execution_count": null,
   "metadata": {},
   "outputs": [],
   "source": [
    "!dvc add data/sales.csv"
   ]
  },
  {
   "cell_type": "markdown",
   "metadata": {},
   "source": [
    "## **Step 4: Run the Pipeline Again with new hyperparameters**\n",
    "\n",
    "Execute the pipeline and push outputs to remote storage."
   ]
  },
  {
   "cell_type": "code",
   "execution_count": null,
   "metadata": {},
   "outputs": [],
   "source": [
    "# Run the pipeline\n",
    "!dvc repro\n",
    "\n",
    "\n",
    "# Commit changes\n",
    "!git add params.yaml dvc.yaml dvc.lock metrics.txt\n",
    "!git commit -m \"Run pipeline with updated hyperparameters\""
   ]
  },
  {
   "cell_type": "markdown",
   "metadata": {},
   "source": [
    "## **Step 7: Restore a Previous Version**\n",
    "\n",
    "Restore an older version of the pipeline, dataset, or model to reproduce past results."
   ]
  },
  {
   "cell_type": "code",
   "execution_count": null,
   "metadata": {},
   "outputs": [],
   "source": [
    "# List Git commits\n",
    "!git log --oneline"
   ]
  },
  {
   "cell_type": "code",
   "execution_count": null,
   "metadata": {},
   "outputs": [],
   "source": [
    "# Checkout a previous version\n",
    "!git checkout <previous_commit_version>"
   ]
  },
  {
   "cell_type": "code",
   "execution_count": null,
   "metadata": {},
   "outputs": [],
   "source": [
    "# Restore files using DVC\n",
    "!dvc checkout"
   ]
  },
  {
   "cell_type": "code",
   "execution_count": null,
   "metadata": {},
   "outputs": [],
   "source": [
    "\n",
    "# Re-run the pipeline\n",
    "!dvc repro"
   ]
  }
 ],
 "metadata": {
  "kernelspec": {
   "display_name": "base",
   "language": "python",
   "name": "python3"
  },
  "language_info": {
   "codemirror_mode": {
    "name": "ipython",
    "version": 3
   },
   "file_extension": ".py",
   "mimetype": "text/x-python",
   "name": "python",
   "nbconvert_exporter": "python",
   "pygments_lexer": "ipython3",
   "version": "3.11.7"
  }
 },
 "nbformat": 4,
 "nbformat_minor": 4
}
