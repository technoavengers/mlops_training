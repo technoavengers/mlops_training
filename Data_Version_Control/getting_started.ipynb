{
 "cells": [
  {
   "cell_type": "markdown",
   "metadata": {},
   "source": [
    "### Install DVC"
   ]
  },
  {
   "cell_type": "code",
   "execution_count": null,
   "metadata": {
    "vscode": {
     "languageId": "plaintext"
    }
   },
   "outputs": [],
   "source": [
    "pip install dvc"
   ]
  },
  {
   "cell_type": "markdown",
   "metadata": {},
   "source": [
    "### Intialize DVC"
   ]
  },
  {
   "cell_type": "code",
   "execution_count": null,
   "metadata": {
    "vscode": {
     "languageId": "plaintext"
    }
   },
   "outputs": [],
   "source": [
    "python -m dvc init"
   ]
  },
  {
   "cell_type": "markdown",
   "metadata": {},
   "source": [
    "<div style=\"font-family: 'Courier New', Courier, monospace; line-height: 1.6; background-color: #1e1e1e; padding: 15px; border-radius: 8px; color: #d4d4d4;\">\n",
    "    <p><span style=\"color: #6a9955;\"><b>First Version</b>: <i>Track the changes with git and dvc</i></span></p>\n",
    "    <p style=\"margin-left: 20px;\">Add data file to DVC:</p>\n",
    "    <pre style=\"color: #dcdcaa; background-color: #1e1e1e; padding: 10px; border: 1px solid #333333; border-radius: 4px;\"><span style=\"color: #569cd6;\">python</span> -m <span style=\"color: #569cd6;\">dvc</span> <span style=\"color: #dcdcaa;\">add data/data.txt</span></pre>\n",
    "    <p style=\"margin-left: 20px;\">Add .dvc/.gitignore to the git:</p>\n",
    "    <pre style=\"color: #dcdcaa; background-color: #1e1e1e; padding: 10px; border: 1px solid #333333; border-radius: 4px;\"><span style=\"color: #569cd6;\">git</span> <span style=\"color: #dcdcaa;\">add 'data/.gitignore' 'data/data.txt.dvc'</span></pre>\n",
    "    <p style=\"margin-left: 20px;\">Commit the changes:</p>\n",
    "    <pre style=\"color: #dcdcaa; background-color: #1e1e1e; padding: 10px; border: 1px solid #333333; border-radius: 4px;\"><span style=\"color: #569cd6;\">git</span> <span style=\"color: #dcdcaa;\">commit -m \"first version\"</span></pre>\n",
    "</div>\n"
   ]
  },
  {
   "cell_type": "code",
   "execution_count": null,
   "metadata": {
    "vscode": {
     "languageId": "plaintext"
    }
   },
   "outputs": [],
   "source": [
    "# Add data file to DVC\n",
    "python -m dvc add data/data.txt\n",
    "\n",
    "# Add .dvc/.gitignore to the git\n",
    "git add 'data/.gitignore' 'data/data.txt.dvc'\n",
    "\n",
    "# Commit the changes\n",
    "git commit -m \"first version\""
   ]
  },
  {
   "cell_type": "markdown",
   "metadata": {},
   "source": [
    "<div style=\"font-family: 'Courier New', Courier, monospace; line-height: 1.6; background-color: #1e1e1e; padding: 15px; border-radius: 8px; color: #d4d4d4;\">\n",
    "    <p>\n",
    "        <span style=\"color: #6a9955;\"><b>Second Version</b>: <i>Change content of file track the changes again with git and dvc</i></span>\n",
    "    </p>\n",
    "    <p style=\"margin-left: 20px;\">\n",
    "        Add data file to DVC:\n",
    "    </p>\n",
    "    <pre style=\"color: #dcdcaa; background-color: #1e1e1e; padding: 10px; border: 1px solid #333333; border-radius: 4px;\">\n",
    "<span style=\"color: #569cd6;\">python</span> -m <span style=\"color: #569cd6;\">dvc</span> <span style=\"color: #dcdcaa;\">add data/data.txt</span>\n",
    "    </pre>\n",
    "    <p style=\"margin-left: 20px;\">\n",
    "        Add .dvc/.gitignore to the git:\n",
    "    </p>\n",
    "    <pre style=\"color: #dcdcaa; background-color: #1e1e1e; padding: 10px; border: 1px solid #333333; border-radius: 4px;\">\n",
    "<span style=\"color: #569cd6;\">git</span> <span style=\"color: #dcdcaa;\">add 'data\\.gitignore' 'data\\data.txt.dvc'</span>\n",
    "    </pre>\n",
    "    <p style=\"margin-left: 20px;\">\n",
    "        Commit the changes:\n",
    "    </p>\n",
    "    <pre style=\"color: #dcdcaa; background-color: #1e1e1e; padding: 10px; border: 1px solid #333333; border-radius: 4px;\">\n",
    "<span style=\"color: #569cd6;\">git</span> <span style=\"color: #dcdcaa;\">commit -m \"second version\"</span>\n",
    "    </pre>\n",
    "</div>\n"
   ]
  },
  {
   "cell_type": "markdown",
   "metadata": {},
   "source": [
    "<div style=\"font-family: 'Courier New', Courier, monospace; line-height: 1.6; background-color: #1e1e1e; padding: 15px; border-radius: 8px; color: #d4d4d4;\">\n",
    "    <p>\n",
    "        <span style=\"color: #6a9955;\"><b>Third Version</b>: <i>Change content of file track the changes again with git and dvc</i></span>\n",
    "    </p>\n",
    "    <p style=\"margin-left: 20px;\">\n",
    "        Add data file to DVC:\n",
    "    </p>\n",
    "    <pre style=\"color: #dcdcaa; background-color: #1e1e1e; padding: 10px; border: 1px solid #333333; border-radius: 4px;\">\n",
    "<span style=\"color: #569cd6;\">python</span> -m <span style=\"color: #569cd6;\">dvc</span> <span style=\"color: #dcdcaa;\">add data/data.txt</span>\n",
    "    </pre>\n",
    "    <p style=\"margin-left: 20px;\">\n",
    "        Add .dvc/.gitignore to the git:\n",
    "    </p>\n",
    "    <pre style=\"color: #dcdcaa; background-color: #1e1e1e; padding: 10px; border: 1px solid #333333; border-radius: 4px;\">\n",
    "<span style=\"color: #569cd6;\">git</span> <span style=\"color: #dcdcaa;\">add 'data\\.gitignore' 'data\\data.txt.dvc'</span>\n",
    "    </pre>\n",
    "    <p style=\"margin-left: 20px;\">\n",
    "        Commit the changes:\n",
    "    </p>\n",
    "    <pre style=\"color: #dcdcaa; background-color: #1e1e1e; padding: 10px; border: 1px solid #333333; border-radius: 4px;\">\n",
    "<span style=\"color: #569cd6;\">git</span> <span style=\"color: #dcdcaa;\">commit -m \"third version\"</span>\n",
    "    </pre>\n",
    "</div>"
   ]
  },
  {
   "cell_type": "code",
   "execution_count": null,
   "metadata": {
    "vscode": {
     "languageId": "plaintext"
    }
   },
   "outputs": [],
   "source": [
    "# Add data file to DVC\n",
    "python -m dvc add data/data.txt\n",
    "\n",
    "# Add .dvc/.gitignore to the git\n",
    "git add 'data/.gitignore' 'data/data.txt.dvc'\n",
    "\n",
    "# Commit the changes\n",
    "git commit -m \"first version\""
   ]
  },
  {
   "cell_type": "markdown",
   "metadata": {},
   "source": [
    "### Let's check all Git commits"
   ]
  },
  {
   "cell_type": "code",
   "execution_count": null,
   "metadata": {
    "vscode": {
     "languageId": "plaintext"
    }
   },
   "outputs": [],
   "source": [
    "git log"
   ]
  },
  {
   "cell_type": "markdown",
   "metadata": {},
   "source": [
    "#### Checkout a  git commit reffering to first version"
   ]
  },
  {
   "cell_type": "code",
   "execution_count": null,
   "metadata": {
    "vscode": {
     "languageId": "plaintext"
    }
   },
   "outputs": [],
   "source": [
    "git checkout <commit_id>"
   ]
  },
  {
   "cell_type": "markdown",
   "metadata": {},
   "source": [
    "### Checkout DVC"
   ]
  },
  {
   "cell_type": "code",
   "execution_count": null,
   "metadata": {
    "vscode": {
     "languageId": "plaintext"
    }
   },
   "outputs": [],
   "source": [
    "python -m dvc checkout"
   ]
  },
  {
   "cell_type": "markdown",
   "metadata": {},
   "source": [
    "<span style=\"color: red\">Have you noticed that the data file has been reverted back to original file and .dvc file md5 has also reverted back to original one.</span>"
   ]
  },
  {
   "cell_type": "markdown",
   "metadata": {},
   "source": [
    "#### Let's checkout to master again"
   ]
  },
  {
   "cell_type": "code",
   "execution_count": null,
   "metadata": {
    "vscode": {
     "languageId": "plaintext"
    }
   },
   "outputs": [],
   "source": [
    "git checkout master"
   ]
  },
  {
   "cell_type": "markdown",
   "metadata": {},
   "source": [
    "#### checkout DVC"
   ]
  },
  {
   "cell_type": "code",
   "execution_count": null,
   "metadata": {
    "vscode": {
     "languageId": "plaintext"
    }
   },
   "outputs": [],
   "source": [
    "python -m dvc checkout"
   ]
  }
 ],
 "metadata": {
  "language_info": {
   "name": "python"
  }
 },
 "nbformat": 4,
 "nbformat_minor": 2
}
