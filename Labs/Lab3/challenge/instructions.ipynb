{
 "cells": [
  {
   "cell_type": "markdown",
   "metadata": {},
   "source": [
    "# Lab: Containerizing a Machine Learning Model Serving\n",
    "\n",
    "#### Estimated Time: 15 mins\n",
    "\n",
    "### **Lab Summary**\n",
    "In this lab, you will learn the basics of Docker by containerizing a simple machine learning model serving application. You will:\n",
    "\n",
    "1. Explore basic Docker commands.\n",
    "2. Create a Docker image for the provided model serving app.\n",
    "3. Run the serving app inside a Docker container and expose it through a port.\n",
    "4. Test the running container using a Python script.\n",
    "5. Access and monitor the container using Docker commands."
   ]
  },
  {
   "cell_type": "markdown",
   "id": "feb21ce1",
   "metadata": {},
   "source": [
    "# **Before Getting Started**\n",
    "\n",
    "Explore all the files provided in this folder to understand their roles in the lab. Below is a brief explanation of each file:\n",
    "\n",
    "---\n",
    "\n",
    "## **1. `serving.py`**\n",
    "📌 **Description**:  \n",
    "FastAPI code to serve the model on a specific port.\n",
    "\n",
    "- **Purpose**:  \n",
    "  Expose an API to serve the trained model for predictions.\n",
    "\n",
    "- **Runs on**:  \n",
    "  Port `8000` (default).\n",
    "\n",
    "---\n",
    "\n",
    "## **2. `preprocessing.py`**\n",
    "📌 **Description**:  \n",
    "Preprocesses the data before passing it to the model.\n",
    "\n",
    "- **Purpose**:  \n",
    "  Contains data cleaning and transformation functions.  \n",
    "  Used in both **training** and **serving** workflows.\n",
    "\n",
    "---\n",
    "\n",
    "## **3. `requirements.txt`**\n",
    "📌 **Description**:  \n",
    "Lists the required Python packages for the lab.\n",
    "\n",
    "- **Purpose**:  \n",
    "  Ensure seamless execution of the provided scripts by installing necessary dependencies.\n",
    "\n",
    "---\n",
    "\n",
    "## **4. `Dockerfile`**\n",
    "📌 **Description**:  \n",
    "Defines instructions to create a custom Docker image for Airflow and serving layers.\n",
    "\n",
    "- **Purpose**:  \n",
    "  - Includes all required packages for Airflow, FastAPI, and other services.  \n",
    "  - Builds the containerized environment for running the pipeline.\n",
    "\n",
    "---\n",
    "\n",
    "## **5. `model` Folder**\n",
    "📌 **Description**:  \n",
    "Stores the trained model and encoder pickle files.\n",
    "\n",
    "- **Contents**:  \n",
    "  - `model.pkl` - Trained machine learning model.  \n",
    "  - `label_encoder.pkl` - Encoder for categorical variables.\n",
    "\n",
    "---\n",
    "\n",
    "## **6. `test_model.py`**\n",
    "📌 **Description**:  \n",
    "Contains test cases to validate the serving API.\n",
    "\n",
    "- **Purpose**:  \n",
    "  - Hits the API endpoints with sample data.  \n",
    "  - Verifies if the model is providing predictions correctly.\n",
    "\n",
    "---\n",
    "\n",
    "## **💡 Next Steps**:\n",
    "- Ensure you have explored these files to understand their purpose.  \n",
    "- Proceed to the lab instructions for implementing **Containerizing your Serving Code**.\n"
   ]
  },
  {
   "cell_type": "markdown",
   "metadata": {},
   "source": [
    "## **Step 1: Understanding the Dockerfile**\n",
    "\n",
    "Below is the provided \"Dockerfile\" to containerize the \"serving.py\" application.\n",
    "\n",
    "Dockerfile\n",
    "\n",
    "```dockerfile\n",
    "# Use the official Python base image\n",
    "FROM python:3.9-slim\n",
    "# Set the working directory\n",
    "WORKDIR /app\n",
    "# Copy the necessary files to the container\n",
    "COPY serving.py preprocessing.py requirements.txt model/random_forest_model.pkl model/scaler.pkl /app/\n",
    "# Install required dependencies\n",
    "RUN pip install --no-cache-dir -r requirements.txt\n",
    "# Expose the port on which the app will run\n",
    "EXPOSE 8000\n",
    "# Command to run the FASTAPI application\n",
    "CMD [\"uvicorn\", \"serving:app\", \"--host\", \"0.0.0.0\", \"--port\", \"8000\"]"
   ]
  },
  {
   "cell_type": "markdown",
   "metadata": {},
   "source": [
    "## **Step 3: Building and Running the Docker Image**\n",
    "\n",
    "Run the following commands in your terminal to build and run the Docker image for the serving application.\n"
   ]
  },
  {
   "cell_type": "code",
   "execution_count": 38,
   "id": "cdc2f8a0",
   "metadata": {
    "vscode": {
     "languageId": "shellscript"
    }
   },
   "outputs": [
    {
     "name": "stderr",
     "output_type": "stream",
     "text": [
      "#0 building with \"default\" instance using docker driver\n",
      "\n",
      "#1 [internal] load .dockerignore\n",
      "#1 transferring context: 2B 0.0s done\n",
      "#1 DONE 0.1s\n",
      "\n",
      "#2 [internal] load build definition from Dockerfile\n",
      "#2 transferring dockerfile: 30B 0.0s\n",
      "#2 transferring dockerfile: 323B 0.1s done\n",
      "#2 DONE 0.2s\n",
      "\n",
      "#3 [internal] load metadata for docker.io/library/python:3.9-slim\n",
      "#3 ...\n",
      "\n",
      "#4 [auth] library/python:pull token for registry-1.docker.io\n",
      "#4 DONE 0.0s\n",
      "\n",
      "#3 [internal] load metadata for docker.io/library/python:3.9-slim\n",
      "#3 DONE 4.5s\n",
      "\n",
      "#5 [1/4] FROM docker.io/library/python:3.9-slim@sha256:bb8009c87ab69e751a1dd2c6c7f8abaae3d9fce8e072802d4a23c95594d16d84\n",
      "#5 DONE 0.0s\n",
      "\n",
      "#6 [internal] load build context\n",
      "#6 transferring context: 5.31MB 0.4s\n",
      "#6 transferring context: 44.86MB 2.0s done\n",
      "#6 DONE 2.1s\n",
      "\n",
      "#7 [2/4] WORKDIR /app\n",
      "#7 CACHED\n",
      "\n",
      "#8 [3/4] COPY serving.py preprocessing.py requirements.txt model/random_forest_model.pkl model/scaler.pkl /app/\n",
      "#8 CACHED\n",
      "\n",
      "#9 [4/4] RUN pip install --no-cache-dir -r requirements.txt\n",
      "#9 CACHED\n",
      "\n",
      "#10 exporting to image\n",
      "#10 exporting layers done\n",
      "#10 writing image sha256:c9bde90cd92a6adf5d5ed4c40399f3cd78b83d006b816524e27b0a42368b6d86 0.0s done\n",
      "#10 naming to docker.io/library/model_serving_app 0.0s done\n",
      "#10 DONE 0.0s\n",
      "\n",
      "What's Next?\n",
      "  View a summary of image vulnerabilities and recommendations → docker scout quickview\n"
     ]
    }
   ],
   "source": [
    "# Build the Docker image\n",
    "\n",
    "!docker build -t model_serving_app . --progress=plain"
   ]
  },
  {
   "cell_type": "code",
   "execution_count": 39,
   "id": "9510812d",
   "metadata": {},
   "outputs": [
    {
     "name": "stdout",
     "output_type": "stream",
     "text": [
      "REPOSITORY                                                TAG                                                                          IMAGE ID       CREATED         SIZE\n",
      "model_serving_app                                         latest                                                                       c9bde90cd92a   5 hours ago     520MB\n",
      "<none>                                                    <none>                                                                       6860ae5278d6   5 hours ago     520MB\n",
      "continuous_monitoring-training                            latest                                                                       b334475b332f   25 hours ago    476MB\n",
      "<none>                                                    <none>                                                                       cfb3640b03b7   26 hours ago    476MB\n",
      "<none>                                                    <none>                                                                       c3534b9b58ee   26 hours ago    476MB\n",
      "<none>                                                    <none>                                                                       38cd4b913250   26 hours ago    476MB\n",
      "<none>                                                    <none>                                                                       51b13a1fff3a   26 hours ago    476MB\n",
      "continuous_monitoring-serving                             latest                                                                       94ef14089fb5   26 hours ago    476MB\n",
      "challenge-serving                                         latest                                                                       ebaee547ecb2   26 hours ago    476MB\n",
      "<none>                                                    <none>                                                                       d6c56db35da7   26 hours ago    476MB\n",
      "<none>                                                    <none>                                                                       90efb1b08132   26 hours ago    476MB\n",
      "challenge-airflow-webserver                               latest                                                                       a86375d23509   43 hours ago    1.88GB\n",
      "challenge-airflow-init                                    latest                                                                       e41fae687ee1   43 hours ago    1.88GB\n",
      "continuous_training-airflow-worker                        latest                                                                       4d187a46cf9c   43 hours ago    1.88GB\n",
      "continuous_training-airflow-init                          latest                                                                       ff2b903dbb67   43 hours ago    1.88GB\n",
      "continuous_training-airflow-webserver                     latest                                                                       66590eedd349   43 hours ago    1.88GB\n",
      "challenge-airflow-scheduler                               latest                                                                       b945a62a5200   43 hours ago    1.88GB\n",
      "continuous_training-airflow-scheduler                     latest                                                                       5fef943ff550   43 hours ago    1.88GB\n",
      "challenge-airflow-worker                                  latest                                                                       704794e6220a   43 hours ago    1.88GB\n",
      "challenge-airflow-triggerer                               latest                                                                       9d2e383cfb85   43 hours ago    1.88GB\n",
      "continuous_training-airflow-triggerer                     latest                                                                       1cdd6971b62b   43 hours ago    1.88GB\n",
      "<none>                                                    <none>                                                                       2600b211a646   43 hours ago    2.14GB\n",
      "<none>                                                    <none>                                                                       9af99efa2ec3   43 hours ago    2.14GB\n",
      "<none>                                                    <none>                                                                       6e7124c4cdd2   43 hours ago    2.14GB\n",
      "<none>                                                    <none>                                                                       03ab2e238661   43 hours ago    2.14GB\n",
      "<none>                                                    <none>                                                                       02dc39ef3824   43 hours ago    2.14GB\n",
      "<none>                                                    <none>                                                                       6bd2c91549f1   44 hours ago    1.88GB\n",
      "<none>                                                    <none>                                                                       616e8cdbec7c   44 hours ago    1.88GB\n",
      "<none>                                                    <none>                                                                       51abd7e9078e   44 hours ago    1.88GB\n",
      "<none>                                                    <none>                                                                       a2fcad06355c   44 hours ago    1.88GB\n",
      "<none>                                                    <none>                                                                       3e2990f62ed7   44 hours ago    1.88GB\n",
      "<none>                                                    <none>                                                                       827740205461   44 hours ago    1.88GB\n",
      "<none>                                                    <none>                                                                       e46341d81a2a   44 hours ago    1.88GB\n",
      "<none>                                                    <none>                                                                       3983d575c8e5   44 hours ago    1.88GB\n",
      "<none>                                                    <none>                                                                       1cda1f696057   44 hours ago    1.88GB\n",
      "<none>                                                    <none>                                                                       158d9fd00b09   44 hours ago    1.88GB\n",
      "<none>                                                    <none>                                                                       abf2e2a06f48   47 hours ago    1.88GB\n",
      "<none>                                                    <none>                                                                       62b861e1225e   47 hours ago    1.88GB\n",
      "<none>                                                    <none>                                                                       44852683b0ed   47 hours ago    1.88GB\n",
      "<none>                                                    <none>                                                                       ad4945a73017   47 hours ago    1.88GB\n",
      "<none>                                                    <none>                                                                       0211014736df   47 hours ago    1.88GB\n",
      "technoavengers/model_serving                              latest                                                                       52ab20481a45   3 days ago      900MB\n",
      "containerization-serving                                  latest                                                                       14ffbe694ec2   4 days ago      475MB\n",
      "<none>                                                    <none>                                                                       f768a6aef185   4 days ago      475MB\n",
      "<none>                                                    <none>                                                                       c8cdcf74e5d2   4 days ago      475MB\n",
      "containerization-preprocessing_training                   latest                                                                       96ce2838371c   4 days ago      825MB\n",
      "<none>                                                    <none>                                                                       454906ffbba4   4 days ago      825MB\n",
      "<none>                                                    <none>                                                                       97c5b0c8867b   4 days ago      825MB\n",
      "<none>                                                    <none>                                                                       f9a9bc26bc2b   4 days ago      825MB\n",
      "<none>                                                    <none>                                                                       f102188fa55e   4 days ago      825MB\n",
      "<none>                                                    <none>                                                                       e10bfd209731   4 days ago      825MB\n",
      "<none>                                                    <none>                                                                       8baaf9bb6c53   4 days ago      825MB\n",
      "<none>                                                    <none>                                                                       d4cb81ba9acf   4 days ago      825MB\n",
      "containerization-mlflow_server                            latest                                                                       0cb71084bb52   4 days ago      1.02GB\n",
      "ghcr.io/mlflow/mlflow                                     latest                                                                       08f461712114   6 days ago      834MB\n",
      "prom/prometheus                                           latest                                                                       b03768b531a2   2 weeks ago     295MB\n",
      "grafana/grafana                                           latest                                                                       c0b69935a246   6 weeks ago     486MB\n",
      "trinodb/trino                                             latest                                                                       5c61e1e4a964   4 months ago    1.4GB\n",
      "minio/minio                                               latest                                                                       fa9ef1ff5226   4 months ago    161MB\n",
      "postgres                                                  latest                                                                       eb634efa7ee4   11 months ago   431MB\n",
      "sslhep/hive-metastore                                     3.1.3                                                                        579de0e64ecf   12 months ago   889MB\n",
      "apache/airflow                                            2.6.3                                                                        4c47ff4f458b   13 months ago   1.39GB\n",
      "postgres                                                  13                                                                           84864a0c80e5   13 months ago   413MB\n",
      "redis                                                     latest                                                                       961dda256baa   14 months ago   138MB\n",
      "mynewimage                                                latest                                                                       e86baef07f56   15 months ago   896MB\n",
      "mypythonimage                                             latest                                                                       e86baef07f56   15 months ago   896MB\n",
      "technoavengers/mynewimagepython                           latest                                                                       e86baef07f56   15 months ago   896MB\n",
      "technoavengers/mypythonapp                                1.0                                                                          e86baef07f56   15 months ago   896MB\n",
      "myimage                                                   latest                                                                       e86baef07f56   15 months ago   896MB\n",
      "httpd                                                     latest                                                                       ca77aadc3cbc   15 months ago   168MB\n",
      "technoavengers/myspark_image                              4.0                                                                          343a0a851edc   15 months ago   970MB\n",
      "mysql                                                     latest                                                                       c138801544a9   18 months ago   577MB\n",
      "gcr.io/k8s-minikube/kicbase                               v0.0.40                                                                      c6cc01e60919   18 months ago   1.19GB\n",
      "hubproxy.docker.internal:5555/docker/desktop-kubernetes   kubernetes-v1.27.2-cni-v1.2.0-critools-v1.27.0-cri-dockerd-v0.3.2-1-debian   c763812a4530   19 months ago   418MB\n",
      "registry.k8s.io/kube-apiserver                            v1.27.2                                                                      c5b13e4f7806   20 months ago   121MB\n",
      "registry.k8s.io/kube-controller-manager                   v1.27.2                                                                      ac2b7465ebba   20 months ago   112MB\n",
      "registry.k8s.io/kube-scheduler                            v1.27.2                                                                      89e70da428d2   20 months ago   58.4MB\n",
      "registry.k8s.io/kube-proxy                                v1.27.2                                                                      b8aa50768fd6   20 months ago   71.1MB\n",
      "docker/desktop-vpnkit-controller                          dc331cb22850be0cdd97c84a9cfecaf44a1afb6e                                     556098075b3d   20 months ago   36.2MB\n",
      "apache/airflow                                            2.5.3                                                                        954e772ab9a0   22 months ago   1.35GB\n",
      "registry.k8s.io/coredns/coredns                           v1.10.1                                                                      ead0a4a53df8   23 months ago   53.6MB\n",
      "registry.k8s.io/etcd                                      3.5.7-0                                                                      86b6af7dd652   24 months ago   296MB\n",
      "registry.k8s.io/pause                                     3.9                                                                          e6f181688397   2 years ago     744kB\n",
      "postgres                                                  10                                                                           1cad456b3a24   2 years ago     202MB\n",
      "docker/desktop-storage-provisioner                        v2.0                                                                         99f89471f470   3 years ago     41.9MB\n"
     ]
    }
   ],
   "source": [
    "# List all Docker images\n",
    "\n",
    "!docker images"
   ]
  },
  {
   "cell_type": "code",
   "execution_count": 40,
   "id": "4035e41a",
   "metadata": {},
   "outputs": [
    {
     "name": "stdout",
     "output_type": "stream",
     "text": [
      "a7e838ca9ff03f7abc1fa7b3fc28474c9e79f9e62f2455f49bc9a43d71803ebf\n"
     ]
    }
   ],
   "source": [
    "\n",
    "# Run the Docker container and expose it on port 8002\n",
    "\n",
    "!docker run -d -p 8002:8000 --name model_serving_container model_serving_app\n"
   ]
  },
  {
   "cell_type": "code",
   "execution_count": 41,
   "id": "62e12a74",
   "metadata": {},
   "outputs": [
    {
     "name": "stdout",
     "output_type": "stream",
     "text": [
      "CONTAINER ID   IMAGE                         COMMAND                  CREATED         STATUS                 PORTS                    NAMES\n",
      "a7e838ca9ff0   model_serving_app             \"uvicorn serving:app…\"   7 seconds ago   Up 3 seconds           0.0.0.0:8002->8000/tcp   model_serving_container\n",
      "153a31987b56   challenge-airflow-webserver   \"/usr/bin/dumb-init …\"   3 hours ago     Up 3 hours (healthy)   0.0.0.0:8080->8080/tcp   challenge-airflow-webserver-1\n",
      "2c4549cc8682   challenge-airflow-triggerer   \"/usr/bin/dumb-init …\"   3 hours ago     Up 3 hours (healthy)   8080/tcp                 challenge-airflow-triggerer-1\n",
      "c5bf5b7ddfb2   challenge-airflow-scheduler   \"/usr/bin/dumb-init …\"   3 hours ago     Up 3 hours (healthy)   8080/tcp                 challenge-airflow-scheduler-1\n",
      "54fe3c0c02d5   challenge-airflow-worker      \"/usr/bin/dumb-init …\"   3 hours ago     Up 3 hours (healthy)   8080/tcp                 challenge-airflow-worker-1\n",
      "03714c36cb5c   postgres:13                   \"docker-entrypoint.s…\"   3 hours ago     Up 3 hours (healthy)   5432/tcp                 challenge-postgres-1\n",
      "23d1bb2df2fc   redis:latest                  \"docker-entrypoint.s…\"   3 hours ago     Up 3 hours (healthy)   6379/tcp                 challenge-redis-1\n"
     ]
    }
   ],
   "source": [
    "# Verify that the container is running\n",
    "\n",
    "!docker ps"
   ]
  },
  {
   "cell_type": "markdown",
   "metadata": {},
   "source": [
    "## **Step 4: Testing the Running Container**\n",
    "\n",
    "Use the provided \"test_model.py\" script to send test data to the running container and verify the predictions.\n"
   ]
  },
  {
   "cell_type": "code",
   "execution_count": 44,
   "id": "ec8c8e94",
   "metadata": {},
   "outputs": [
    {
     "name": "stdout",
     "output_type": "stream",
     "text": [
      "Status Code: 200\n",
      "Response JSON: {'predictions': [273.67]}\n"
     ]
    }
   ],
   "source": [
    "!python test_model.py\n"
   ]
  },
  {
   "cell_type": "markdown",
   "metadata": {},
   "source": [
    "## **Step 5: Accessing and Monitoring the Container**\n",
    "\n",
    "Explore the running container using Docker commands."
   ]
  },
  {
   "cell_type": "code",
   "execution_count": null,
   "id": "bd0cbb13",
   "metadata": {},
   "outputs": [],
   "source": [
    "# List running containers\n",
    "!docker ps"
   ]
  },
  {
   "cell_type": "markdown",
   "id": "d127eed9",
   "metadata": {},
   "source": [
    "<span style=\"color:red\">Run below command in terminal</span>\n"
   ]
  },
  {
   "cell_type": "code",
   "execution_count": null,
   "id": "93142950",
   "metadata": {},
   "outputs": [],
   "source": [
    "# Access the container shell\n",
    "\n",
    "!docker exec -it model_serving_container /bin/bash"
   ]
  },
  {
   "cell_type": "code",
   "execution_count": null,
   "id": "f092d3b2",
   "metadata": {},
   "outputs": [],
   "source": [
    "# View logs of the container\n",
    "\n",
    "!docker logs model_serving_container"
   ]
  },
  {
   "cell_type": "markdown",
   "metadata": {},
   "source": [
    "## **Step 6: Cleaning Up**\n",
    "\n",
    "After completing the lab, clean up the environment by stopping and removing the container and image.\n"
   ]
  },
  {
   "cell_type": "code",
   "execution_count": null,
   "id": "835f7603",
   "metadata": {},
   "outputs": [],
   "source": [
    "# Stop the container\n",
    "\n",
    "!docker stop model_serving_container"
   ]
  },
  {
   "cell_type": "code",
   "execution_count": null,
   "id": "57bc066f",
   "metadata": {},
   "outputs": [],
   "source": [
    "# Remove the container\n",
    "\n",
    "!docker rm model_serving_container"
   ]
  },
  {
   "cell_type": "code",
   "execution_count": null,
   "id": "ba688b90",
   "metadata": {},
   "outputs": [],
   "source": [
    "# Remove the image\n",
    "\n",
    "!docker rmi model_serving_app"
   ]
  },
  {
   "cell_type": "markdown",
   "metadata": {},
   "source": [
    "---\n",
    "\n",
    "## **Congratulations!**\n",
    "You have successfully containerized and served a machine learning model. You also tested the predictions and explored container management using Docker commands. This knowledge is a critical step in mastering MLOps."
   ]
  }
 ],
 "metadata": {
  "kernelspec": {
   "display_name": "base",
   "language": "python",
   "name": "python3"
  },
  "language_info": {
   "codemirror_mode": {
    "name": "ipython",
    "version": 3
   },
   "file_extension": ".py",
   "mimetype": "text/x-python",
   "name": "python",
   "nbconvert_exporter": "python",
   "pygments_lexer": "ipython3",
   "version": "3.11.7"
  }
 },
 "nbformat": 4,
 "nbformat_minor": 5
}
