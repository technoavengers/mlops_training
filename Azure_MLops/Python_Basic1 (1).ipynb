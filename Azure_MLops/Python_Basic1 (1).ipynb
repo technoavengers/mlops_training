{
  "nbformat": 4,
  "nbformat_minor": 0,
  "metadata": {
    "colab": {
      "provenance": []
    },
    "kernelspec": {
      "name": "python3",
      "display_name": "Python 3"
    },
    "language_info": {
      "name": "python"
    }
  },
  "cells": [
    {
      "cell_type": "code",
      "source": [
        "pip install neo4j langchain_openai langchain_neo4j langchain_community"
      ],
      "metadata": {
        "id": "0kNOxYrabxlZ"
      },
      "execution_count": null,
      "outputs": []
    },
    {
      "cell_type": "code",
      "execution_count": null,
      "metadata": {
        "id": "B-z4mNS6bWTG"
      },
      "outputs": [],
      "source": [
        "from langchain.chains import GraphCypherQAChain\n",
        "from langchain_openai import OpenAI\n",
        "from langchain_community.graphs import Neo4jGraph\n",
        "from langchain.prompts import PromptTemplate\n",
        "\n",
        "# -----------------------------\n",
        "# 1. Neo4j Connection\n",
        "# -----------------------------\n",
        "URI = \"neo4j uri\"\n",
        "AUTH = (\"neo4j\", \"your neo4j password\")\n",
        "\n",
        "graph = Neo4jGraph(\n",
        "    url=URI,\n",
        "    username=AUTH[0],\n",
        "    password=AUTH[1]\n",
        ")\n",
        "\n",
        "# -----------------------------\n",
        "# 2. Auto-load schema (ontology-lite)\n",
        "# -----------------------------\n",
        "print(\"📌 Graph Schema from Neo4j:\")\n",
        "print(graph.schema)   # This shows nodes, rels, properties\n",
        "\n",
        "# -----------------------------\n",
        "# 3. Custom Ontology Descriptions\n",
        "# -----------------------------\n",
        "ontology_hint = \"\"\"\n",
        "Ontology:\n",
        "- A User can FOLLOW another User using :FOLLOWS.\n",
        "- A User can WRITE a Post using :POSTED.\n",
        "- A Person can Comment on a Post using :COMMENTED.\n",
        "\"\"\"\n",
        "\n",
        "# -----------------------------\n",
        "# 4. Custom QA Prompt\n",
        "# -----------------------------\n",
        "qa_prompt = PromptTemplate(\n",
        "    input_variables=[\"schema\", \"question\"],\n",
        "    template=\"\"\"\n",
        "You are an expert Cypher translator.\n",
        "Here are extra ontology hints:\n",
        "\"\"\" + ontology_hint + \"\"\"\n",
        "\n",
        "Given the question: {question}\n",
        "Generate a Cypher query that matches the ontology and return results.\n",
        "\"\"\"\n",
        ")\n",
        "\n",
        "# -----------------------------\n",
        "# 5. LLM Setup\n",
        "# -----------------------------\n",
        "llm = OpenAI(openai_api_key=\"your api key\")\n",
        "\n",
        "# -----------------------------\n",
        "# 6. Chain Creation\n",
        "# -----------------------------\n",
        "chain = GraphCypherQAChain.from_llm(\n",
        "    llm=llm,\n",
        "    graph=graph,\n",
        "    verbose=True,\n",
        "    qa_prompt=qa_prompt,\n",
        "    allow_dangerous_requests=True\n",
        ")\n",
        "\n",
        "# -----------------------------\n",
        "# 7. Run Query\n",
        "# -----------------------------\n",
        "question = \"How many followers Bob Has?\"\n",
        "answer = chain.run(question)\n",
        "\n",
        "print(\"\\n✅ Answer:\", answer)\n"
      ]
    }
  ]
}