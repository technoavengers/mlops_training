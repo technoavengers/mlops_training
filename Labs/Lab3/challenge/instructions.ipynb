{
 "cells": [
  {
   "cell_type": "markdown",
   "metadata": {},
   "source": [
    "# Lab: Containerizing a Machine Learning Model Serving\n",
    "\n",
    "#### Estimated Time: 15 mins\n",
    "\n",
    "### **Lab Summary**\n",
    "In this lab, you will learn the basics of Docker by containerizing a simple machine learning model serving application. You will:\n",
    "\n",
    "1. Explore basic Docker commands.\n",
    "2. Create a Docker image for the provided model serving app.\n",
    "3. Run the serving app inside a Docker container and expose it through a port.\n",
    "4. Test the running container using a Python script.\n",
    "5. Access and monitor the container using Docker commands."
   ]
  },
  {
   "cell_type": "markdown",
   "id": "feb21ce1",
   "metadata": {},
   "source": [
    "# **Before Getting Started**\n",
    "\n",
    "Explore all the files provided in this folder to understand their roles in the lab. Below is a brief explanation of each file:\n",
    "\n",
    "---\n",
    "\n",
    "## **1. `serving.py`**\n",
    "📌 **Description**:  \n",
    "FastAPI code to serve the model on a specific port.\n",
    "\n",
    "- **Purpose**:  \n",
    "  Expose an API to serve the trained model for predictions.\n",
    "\n",
    "- **Runs on**:  \n",
    "  Port `8000` (default).\n",
    "\n",
    "---\n",
    "\n",
    "## **2. `preprocessing.py`**\n",
    "📌 **Description**:  \n",
    "Preprocesses the data before passing it to the model.\n",
    "\n",
    "- **Purpose**:  \n",
    "  Contains data cleaning and transformation functions.  \n",
    "  Used in both **training** and **serving** workflows.\n",
    "\n",
    "---\n",
    "\n",
    "## **3. `requirements.txt`**\n",
    "📌 **Description**:  \n",
    "Lists the required Python packages for the lab.\n",
    "\n",
    "- **Purpose**:  \n",
    "  Ensure seamless execution of the provided scripts by installing necessary dependencies.\n",
    "\n",
    "---\n",
    "\n",
    "## **4. `Dockerfile`**\n",
    "📌 **Description**:  \n",
    "Defines instructions to create a custom Docker image for Airflow and serving layers.\n",
    "\n",
    "- **Purpose**:  \n",
    "  - Includes all required packages for Airflow, FastAPI, and other services.  \n",
    "  - Builds the containerized environment for running the pipeline.\n",
    "\n",
    "---\n",
    "\n",
    "## **5. `model` Folder**\n",
    "📌 **Description**:  \n",
    "Stores the trained model and encoder pickle files.\n",
    "\n",
    "- **Contents**:  \n",
    "  - `model.pkl` - Trained machine learning model.  \n",
    "  - `label_encoder.pkl` - Encoder for categorical variables.\n",
    "\n",
    "---\n",
    "\n",
    "## **6. `test_model.py`**\n",
    "📌 **Description**:  \n",
    "Contains test cases to validate the serving API.\n",
    "\n",
    "- **Purpose**:  \n",
    "  - Hits the API endpoints with sample data.  \n",
    "  - Verifies if the model is providing predictions correctly.\n",
    "\n",
    "---\n",
    "\n",
    "## **💡 Next Steps**:\n",
    "- Ensure you have explored these files to understand their purpose.  \n",
    "- Proceed to the lab instructions for implementing **Containerizing your Serving Code**.\n"
   ]
  },
  {
   "cell_type": "markdown",
   "metadata": {},
   "source": [
    "## **Step 1: Understanding the Dockerfile**\n",
    "\n",
    "Below is the provided \"Dockerfile\" to containerize the \"serving.py\" application.\n",
    "\n",
    "Dockerfile\n",
    "\n",
    "```dockerfile\n",
    "# Use the official Python base image\n",
    "FROM python:3.9-slim\n",
    "# Set the working directory\n",
    "WORKDIR /app\n",
    "# Copy the necessary files to the container\n",
    "COPY serving.py preprocessing.py requirements.txt model/random_forest_model.pkl model/scaler.pkl /app/\n",
    "# Install required dependencies\n",
    "RUN pip install --no-cache-dir -r requirements.txt\n",
    "# Expose the port on which the app will run\n",
    "EXPOSE 8000\n",
    "# Command to run the FASTAPI application\n",
    "CMD [\"uvicorn\", \"serving:app\", \"--host\", \"0.0.0.0\", \"--port\", \"8000\"]"
   ]
  },
  {
   "cell_type": "markdown",
   "metadata": {},
   "source": [
    "## **Step 3: Building and Running the Docker Image**\n",
    "\n",
    "Run the following commands in your terminal to build and run the Docker image for the serving application.\n"
   ]
  },
  {
   "cell_type": "code",
   "execution_count": null,
   "id": "cdc2f8a0",
   "metadata": {
    "vscode": {
     "languageId": "shellscript"
    }
   },
   "outputs": [],
   "source": [
    "# Build the Docker image\n",
    "\n",
    "!docker build -t model_serving_app . --progress=plain"
   ]
  },
  {
   "cell_type": "code",
   "execution_count": null,
   "id": "9510812d",
   "metadata": {},
   "outputs": [],
   "source": [
    "# List all Docker images\n",
    "\n",
    "!docker images"
   ]
  },
  {
   "cell_type": "code",
   "execution_count": null,
   "id": "4035e41a",
   "metadata": {},
   "outputs": [],
   "source": [
    "\n",
    "# Run the Docker container and expose it on port 8000\n",
    "\n",
    "!docker run -d -p 8000:8000 --name model_serving_container model_serving_app\n"
   ]
  },
  {
   "cell_type": "code",
   "execution_count": null,
   "id": "62e12a74",
   "metadata": {},
   "outputs": [],
   "source": [
    "# Verify that the container is running\n",
    "\n",
    "!docker ps"
   ]
  },
  {
   "cell_type": "markdown",
   "metadata": {},
   "source": [
    "## **Step 4: Testing the Running Container**\n",
    "\n",
    "Use the provided \"test_model.py\" script to send test data to the running container and verify the predictions.\n"
   ]
  },
  {
   "cell_type": "code",
   "execution_count": null,
   "id": "ec8c8e94",
   "metadata": {},
   "outputs": [],
   "source": [
    "!python test_model.py\n"
   ]
  },
  {
   "cell_type": "markdown",
   "metadata": {},
   "source": [
    "## **Step 5: Accessing and Monitoring the Container**\n",
    "\n",
    "Explore the running container using Docker commands."
   ]
  },
  {
   "cell_type": "code",
   "execution_count": null,
   "id": "bd0cbb13",
   "metadata": {},
   "outputs": [],
   "source": [
    "# List running containers\n",
    "!docker ps"
   ]
  },
  {
   "cell_type": "markdown",
   "id": "d127eed9",
   "metadata": {},
   "source": [
    "<span style=\"color:red\">Run below command in terminal</span>\n"
   ]
  },
  {
   "cell_type": "code",
   "execution_count": null,
   "id": "93142950",
   "metadata": {},
   "outputs": [],
   "source": [
    "# Access the container shell\n",
    "\n",
    "!docker exec -it model_serving_container /bin/bash"
   ]
  },
  {
   "cell_type": "code",
   "execution_count": null,
   "id": "f092d3b2",
   "metadata": {},
   "outputs": [],
   "source": [
    "# View logs of the container\n",
    "\n",
    "!docker logs model_serving_container"
   ]
  },
  {
   "cell_type": "markdown",
   "metadata": {},
   "source": [
    "## **Step 6: Cleaning Up**\n",
    "\n",
    "After completing the lab, clean up the environment by stopping and removing the container and image.\n"
   ]
  },
  {
   "cell_type": "code",
   "execution_count": null,
   "id": "835f7603",
   "metadata": {},
   "outputs": [],
   "source": [
    "# Stop the container\n",
    "\n",
    "!docker stop model_serving_container"
   ]
  },
  {
   "cell_type": "code",
   "execution_count": null,
   "id": "57bc066f",
   "metadata": {},
   "outputs": [],
   "source": [
    "# Remove the container\n",
    "\n",
    "!docker rm model_serving_container"
   ]
  },
  {
   "cell_type": "code",
   "execution_count": null,
   "id": "ba688b90",
   "metadata": {},
   "outputs": [],
   "source": [
    "# Remove the image\n",
    "\n",
    "!docker rmi model_serving_app"
   ]
  },
  {
   "cell_type": "markdown",
   "metadata": {},
   "source": [
    "---\n",
    "\n",
    "## **Congratulations!**\n",
    "You have successfully containerized and served a machine learning model. You also tested the predictions and explored container management using Docker commands. This knowledge is a critical step in mastering MLOps."
   ]
  }
 ],
 "metadata": {
  "kernelspec": {
   "display_name": "base",
   "language": "python",
   "name": "python3"
  },
  "language_info": {
   "codemirror_mode": {
    "name": "ipython",
    "version": 3
   },
   "file_extension": ".py",
   "mimetype": "text/x-python",
   "name": "python",
   "nbconvert_exporter": "python",
   "pygments_lexer": "ipython3",
   "version": "3.11.7"
  }
 },
 "nbformat": 4,
 "nbformat_minor": 5
}
