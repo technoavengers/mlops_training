{
  "cells": [
    {
      "cell_type": "code",
      "source": [
        "from azure.ai.ml import MLClient\n",
        "from azure.identity import DefaultAzureCredential\n",
        "\n",
        "# Connect to workspace\n",
        "ml_client = MLClient(\n",
        "    DefaultAzureCredential(),\n",
        "    subscription_id=\"2d3821fb-1fc0-4f0e-b514-0bdca749349b\",\n",
        "    resource_group_name=\"ml-rg-demo\",\n",
        "    workspace_name=\"ml-workspace-demo\"\n",
        ")\n",
        "\n",
        "print(\"✅ Connected to workspace:\", ml_client.workspace_name)\n"
      ],
      "outputs": [],
      "execution_count": null,
      "metadata": {
        "gather": {
          "logged": 1757664000090
        }
      }
    },
    {
      "cell_type": "code",
      "source": [
        "from azure.ai.ml.entities import Data\n",
        "\n",
        "my_data = Data(\n",
        "    name=\"walmart-data\",\n",
        "    description=\"Demo dataset for walmart prediction\",\n",
        "    path=\"Walmart.csv\",  # relative to notebook folder\n",
        "    type=\"uri_file\"\n",
        ")\n",
        "\n",
        "ml_client.data.create_or_update(my_data)\n",
        "print(\"✅ Dataset registered\")"
      ],
      "outputs": [],
      "execution_count": null,
      "metadata": {
        "gather": {
          "logged": 1757663784548
        }
      }
    },
    {
      "cell_type": "code",
      "source": [
        "from azure.ai.ml.entities import AmlCompute\n",
        "\n",
        "cpu_cluster = AmlCompute(\n",
        "    name=\"cpu-cluster\",              # cluster name\n",
        "    size=\"Standard_D2s_v3\",          # VM type (4 CPU, 14 GB RAM)\n",
        "    min_instances=0,                 # scale down when idle\n",
        "    max_instances=2,                 # up to 2 nodes\n",
        "    idle_time_before_scale_down=120  # seconds\n",
        ")\n",
        "\n",
        "ml_client.compute.begin_create_or_update(cpu_cluster).result()\n",
        "print(\"✅ cpu-cluster created\")\n"
      ],
      "outputs": [],
      "execution_count": null,
      "metadata": {
        "gather": {
          "logged": 1757664090158
        }
      }
    },
    {
      "cell_type": "code",
      "source": [
        "from azure.ai.ml.entities import Environment\n",
        "\n",
        "env = Environment(\n",
        "    name=\"walmart-env\",\n",
        "    version=\"2\",   # must include version\n",
        "    conda_file=\"conda.yml\",\n",
        "    image=\"mcr.microsoft.com/azureml/openmpi4.1.0-ubuntu20.04\"\n",
        ")\n",
        "ml_client.environments.create_or_update(env)"
      ],
      "outputs": [],
      "execution_count": null,
      "metadata": {
        "gather": {
          "logged": 1757663268120
        }
      }
    },
    {
      "cell_type": "code",
      "source": [
        "from azure.ai.ml import command, Input\n",
        "\n",
        "job = command(\n",
        "    code=\".\",  # folder containing train.py\n",
        "    command=\"python train.py --data ${{inputs.data}} --n_estimators 200\",\n",
        "    inputs={\"data\": Input(type=\"uri_file\", path=\"walmart-data:1\")},\n",
        "    environment=\"walmart-env:2\",\n",
        "    compute=\"cpu-cluster\",\n",
        "    experiment_name=\"walmart-mlflow-training\"\n",
        ")\n",
        "\n",
        "returned_job = ml_client.jobs.create_or_update(job)\n",
        "ml_client.jobs.stream(returned_job.name)\n"
      ],
      "outputs": [],
      "execution_count": null,
      "metadata": {
        "gather": {
          "logged": 1757663255467
        }
      }
    },
    {
      "cell_type": "code",
      "source": [
        "from azure.ai.ml.entities import Model\n",
        "\n",
        "model = Model(\n",
        "    path=f\"azureml://jobs/{returned_job.name}/outputs/artifacts/model.pkl\",\n",
        "    name=\"walmart-rf-model\",\n",
        "    description=\"Random Forest model trained on Walmart dataset\"\n",
        ")\n",
        "\n",
        "ml_client.models.create_or_update(model)\n",
        "print(\"✅ Model registered\")\n"
      ],
      "outputs": [],
      "execution_count": null,
      "metadata": {
        "gather": {
          "logged": 1757662255640
        }
      }
    }
  ],
  "metadata": {
    "kernelspec": {
      "name": "python310-sdkv2",
      "language": "python",
      "display_name": "Python 3.10 - SDK v2"
    },
    "language_info": {
      "name": "python",
      "version": "3.10.18",
      "mimetype": "text/x-python",
      "codemirror_mode": {
        "name": "ipython",
        "version": 3
      },
      "pygments_lexer": "ipython3",
      "nbconvert_exporter": "python",
      "file_extension": ".py"
    },
    "microsoft": {
      "ms_spell_check": {
        "ms_spell_check_language": "en"
      },
      "host": {
        "AzureML": {
          "notebookHasBeenCompleted": true
        }
      }
    },
    "kernel_info": {
      "name": "python310-sdkv2"
    },
    "nteract": {
      "version": "nteract-front-end@1.0.0"
    }
  },
  "nbformat": 4,
  "nbformat_minor": 2
}