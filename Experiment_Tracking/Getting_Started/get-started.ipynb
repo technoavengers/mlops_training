{
 "cells": [
  {
   "cell_type": "markdown",
   "metadata": {},
   "source": [
    "## MLFLow Tracking Server"
   ]
  },
  {
   "cell_type": "code",
   "execution_count": null,
   "metadata": {},
   "outputs": [],
   "source": [
    "import mlflow"
   ]
  },
  {
   "cell_type": "code",
   "execution_count": null,
   "metadata": {},
   "outputs": [],
   "source": [
    "mlflow.set_tracking_uri(\"http://127.0.0.1:5001\")"
   ]
  },
  {
   "cell_type": "code",
   "execution_count": 9,
   "metadata": {},
   "outputs": [
    {
     "name": "stderr",
     "output_type": "stream",
     "text": [
      "2025/01/09 11:30:51 INFO mlflow.tracking.fluent: Experiment with name 'New Experiment' does not exist. Creating a new experiment.\n"
     ]
    },
    {
     "name": "stdout",
     "output_type": "stream",
     "text": [
      "🏃 View run inquisitive-mare-749 at: http://127.0.0.1:5001/#/experiments/603101925905002875/runs/a21f65408cf74f3c81fcab050e54f216\n",
      "🧪 View experiment at: http://127.0.0.1:5001/#/experiments/603101925905002875\n"
     ]
    }
   ],
   "source": [
    "mlflow.set_experiment(\"New Experiment\")\n",
    "\n",
    "with mlflow.start_run():\n",
    "    mlflow.log_metric(\"accuracy\",70)"
   ]
  },
  {
   "cell_type": "code",
   "execution_count": 10,
   "metadata": {},
   "outputs": [
    {
     "name": "stdout",
     "output_type": "stream",
     "text": [
      "🏃 View run glamorous-gull-239 at: http://127.0.0.1:5001/#/experiments/603101925905002875/runs/9f97e70f313a48c499da4fb4f8662c46\n",
      "🧪 View experiment at: http://127.0.0.1:5001/#/experiments/603101925905002875\n"
     ]
    }
   ],
   "source": [
    "with mlflow.start_run():\n",
    "    mlflow.log_metric(\"accuracy\",90)"
   ]
  }
 ],
 "metadata": {
  "kernelspec": {
   "display_name": "Python 3",
   "language": "python",
   "name": "python3"
  },
  "language_info": {
   "codemirror_mode": {
    "name": "ipython",
    "version": 3
   },
   "file_extension": ".py",
   "mimetype": "text/x-python",
   "name": "python",
   "nbconvert_exporter": "python",
   "pygments_lexer": "ipython3",
   "version": "3.11.9"
  }
 },
 "nbformat": 4,
 "nbformat_minor": 2
}
