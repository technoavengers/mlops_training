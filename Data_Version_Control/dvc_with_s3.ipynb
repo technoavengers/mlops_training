{
 "cells": [
  {
   "cell_type": "code",
   "execution_count": null,
   "metadata": {
    "vscode": {
     "languageId": "plaintext"
    }
   },
   "outputs": [],
   "source": [
    "python -m dvc remote add -d myremote s3://dvcmlops1234/dvc_store"
   ]
  },
  {
   "cell_type": "code",
   "execution_count": null,
   "metadata": {
    "vscode": {
     "languageId": "plaintext"
    }
   },
   "outputs": [],
   "source": [
    "python -m dvc remote modify myremote access_key_id <your-access-key-id>\n",
    "python -m dvc remote modify myremote secret_access_key <your-secret-access-key>\n",
    "python -m dvc remote modify myremote region <your-region>"
   ]
  },
  {
   "cell_type": "code",
   "execution_count": null,
   "metadata": {
    "vscode": {
     "languageId": "plaintext"
    }
   },
   "outputs": [],
   "source": [
    "pip install 'dvc[s3]'\n",
    "python -m dvc add data_s3/customer.txt\n",
    "python -m dvc push"
   ]
  },
  {
   "cell_type": "code",
   "execution_count": null,
   "metadata": {
    "vscode": {
     "languageId": "plaintext"
    }
   },
   "outputs": [],
   "source": [
    "git add data_s3/customer.txt.dvc data_s3/.gitignore"
   ]
  }
 ],
 "metadata": {
  "language_info": {
   "name": "python"
  }
 },
 "nbformat": 4,
 "nbformat_minor": 2
}
